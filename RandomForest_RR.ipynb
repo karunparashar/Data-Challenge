{
 "cells": [
  {
   "cell_type": "code",
   "execution_count": 23,
   "metadata": {
    "colab": {},
    "colab_type": "code",
    "id": "jkAJCStPTNIa"
   },
   "outputs": [],
   "source": [
    "import pandas as pd\n",
    "import numpy as np\n",
    "import seaborn as sns\n",
    "import matplotlib\n",
    "import matplotlib.pyplot as plt\n",
    "from sklearn.feature_selection import RFE\n",
    "from sklearn.preprocessing import LabelEncoder\n",
    "from sklearn.preprocessing import OrdinalEncoder\n",
    "from sklearn.model_selection import RandomizedSearchCV \n",
    "from sklearn.neighbors import KNeighborsClassifier\n",
    "from sklearn.metrics import accuracy_score\n",
    "from yellowbrick.classifier import ClassificationReport\n",
    "from sklearn.model_selection import train_test_split\n",
    "from sklearn.metrics import classification_report\n",
    "from imblearn.over_sampling import SMOTE\n",
    "from imblearn.under_sampling import RandomUnderSampler\n",
    "from imblearn.pipeline import Pipeline"
   ]
  },
  {
   "cell_type": "markdown",
   "metadata": {},
   "source": [
    "Reading the input file and splitting it into train and test"
   ]
  },
  {
   "cell_type": "code",
   "execution_count": 3,
   "metadata": {
    "colab": {},
    "colab_type": "code",
    "id": "nIcqEJUZTkka"
   },
   "outputs": [],
   "source": [
    "df_train = pd.read_csv('/Users/karunparashar/Downloads/mtx/Train_rsmpl.csv')\n",
    "df = df_train.copy(deep=True)\n",
    "X_resampled = df.iloc[:,0:52]\n",
    "y_resampled = df.iloc[:,52]\n",
    "x_train, x_test, y_train, y_test = train_test_split(X_resampled,y_resampled,train_size=0.8,test_size=0.2,\n",
    "                                                    random_state = 7)"
   ]
  },
  {
   "cell_type": "code",
   "execution_count": 10,
   "metadata": {
    "colab": {},
    "colab_type": "code",
    "id": "48-5hq-PT9EX",
    "scrolled": true
   },
   "outputs": [
    {
     "name": "stderr",
     "output_type": "stream",
     "text": [
      "//anaconda3/lib/python3.7/site-packages/sklearn/model_selection/_search.py:271: UserWarning: The total space of parameters 6 is smaller than n_iter=10. Running 6 iterations. For exhaustive searches, use GridSearchCV.\n",
      "  % (grid_size, self.n_iter, grid_size), UserWarning)\n",
      "[Parallel(n_jobs=1)]: Using backend SequentialBackend with 1 concurrent workers.\n"
     ]
    },
    {
     "name": "stdout",
     "output_type": "stream",
     "text": [
      "Fitting 2 folds for each of 6 candidates, totalling 12 fits\n",
      "[CV] n_estimators=100, max_features=auto .............................\n",
      "[CV]  n_estimators=100, max_features=auto, score=0.9160754249797629, total=   8.4s\n",
      "[CV] n_estimators=100, max_features=auto .............................\n"
     ]
    },
    {
     "name": "stderr",
     "output_type": "stream",
     "text": [
      "[Parallel(n_jobs=1)]: Done   1 out of   1 | elapsed:    9.6s remaining:    0.0s\n"
     ]
    },
    {
     "name": "stdout",
     "output_type": "stream",
     "text": [
      "[CV]  n_estimators=100, max_features=auto, score=0.9162817277013191, total=   9.0s\n",
      "[CV] n_estimators=1000, max_features=auto ............................\n"
     ]
    },
    {
     "name": "stderr",
     "output_type": "stream",
     "text": [
      "[Parallel(n_jobs=1)]: Done   2 out of   2 | elapsed:   19.8s remaining:    0.0s\n"
     ]
    },
    {
     "name": "stdout",
     "output_type": "stream",
     "text": [
      "[CV]  n_estimators=1000, max_features=auto, score=0.9182896052568925, total= 1.7min\n",
      "[CV] n_estimators=1000, max_features=auto ............................\n",
      "[CV]  n_estimators=1000, max_features=auto, score=0.9181151483403972, total= 1.6min\n",
      "[CV] n_estimators=2000, max_features=auto ............................\n",
      "[CV]  n_estimators=2000, max_features=auto, score=0.9184800723775058, total= 3.3min\n",
      "[CV] n_estimators=2000, max_features=auto ............................\n",
      "[CV]  n_estimators=2000, max_features=auto, score=0.9189009000428592, total= 3.7min\n",
      "[CV] n_estimators=100, max_features=sqrt .............................\n",
      "[CV]  n_estimators=100, max_features=sqrt, score=0.9170039521927528, total=  11.5s\n",
      "[CV] n_estimators=100, max_features=sqrt .............................\n",
      "[CV]  n_estimators=100, max_features=sqrt, score=0.9164007809895709, total=  11.9s\n",
      "[CV] n_estimators=1000, max_features=sqrt ............................\n",
      "[CV]  n_estimators=1000, max_features=sqrt, score=0.9184324555973525, total= 2.0min\n",
      "[CV] n_estimators=1000, max_features=sqrt ............................\n",
      "[CV]  n_estimators=1000, max_features=sqrt, score=0.9189961426734606, total= 1.8min\n",
      "[CV] n_estimators=2000, max_features=sqrt ............................\n",
      "[CV]  n_estimators=2000, max_features=sqrt, score=0.9189324317889624, total= 3.1min\n",
      "[CV] n_estimators=2000, max_features=sqrt ............................\n",
      "[CV]  n_estimators=2000, max_features=sqrt, score=0.9188770893852088, total= 2.9min\n"
     ]
    },
    {
     "name": "stderr",
     "output_type": "stream",
     "text": [
      "[Parallel(n_jobs=1)]: Done  12 out of  12 | elapsed: 23.5min finished\n"
     ]
    },
    {
     "ename": "NameError",
     "evalue": "name 'accuracy_score' is not defined",
     "output_type": "error",
     "traceback": [
      "\u001b[0;31m---------------------------------------------------------------------------\u001b[0m",
      "\u001b[0;31mNameError\u001b[0m                                 Traceback (most recent call last)",
      "\u001b[0;32m<ipython-input-10-12c7799f55e5>\u001b[0m in \u001b[0;36m<module>\u001b[0;34m\u001b[0m\n\u001b[1;32m     17\u001b[0m \u001b[0;34m\u001b[0m\u001b[0m\n\u001b[1;32m     18\u001b[0m \u001b[0;31m#calculating accuracy\u001b[0m\u001b[0;34m\u001b[0m\u001b[0;34m\u001b[0m\u001b[0;34m\u001b[0m\u001b[0m\n\u001b[0;32m---> 19\u001b[0;31m \u001b[0mRF_acc_grid\u001b[0m \u001b[0;34m=\u001b[0m \u001b[0maccuracy_score\u001b[0m\u001b[0;34m(\u001b[0m\u001b[0my_test\u001b[0m\u001b[0;34m,\u001b[0m\u001b[0mgrid_predictions_RF\u001b[0m\u001b[0;34m)\u001b[0m\u001b[0;34m\u001b[0m\u001b[0;34m\u001b[0m\u001b[0m\n\u001b[0m",
      "\u001b[0;31mNameError\u001b[0m: name 'accuracy_score' is not defined"
     ]
    }
   ],
   "source": [
    "#Random Forest\n",
    "#defining base classifier\n",
    "rfc=  RandomForestClassifier()\n",
    "\n",
    "#parameters to be tuned\n",
    "param_grid_RF = { \"n_estimators\" : [100,1000,2000],\n",
    "                  'max_features': ['auto', 'sqrt']}\n",
    "\n",
    "#grid search initialisation\n",
    "grid_RF = RandomizedSearchCV(rfc, param_grid_RF, cv = 2,verbose = 3)\n",
    "\n",
    "#training on model created using grid search\n",
    "RF_model = grid_RF.fit(x_train, y_train)\n",
    "\n",
    "#predictions based on this model\n",
    "grid_predictions_RF = RF_model.predict(x_test) \n",
    "\n",
    "#calculating accuracy\n",
    "RF_acc_grid = accuracy_score(y_test,grid_predictions_RF)\n",
    "RF_acc_grid"
   ]
  },
  {
   "cell_type": "code",
   "execution_count": 39,
   "metadata": {},
   "outputs": [
    {
     "name": "stdout",
     "output_type": "stream",
     "text": [
      "0.9281876973916336\n"
     ]
    }
   ],
   "source": [
    "RF_acc_grid = accuracy_score(y_test,grid_predictions_RF)"
   ]
  },
  {
   "cell_type": "code",
   "execution_count": 31,
   "metadata": {},
   "outputs": [
    {
     "data": {
      "image/png": "[encoded data removed]",
      "text/plain": [
       "<Figure size 576x396 with 1 Axes>"
      ]
     },
     "metadata": {},
     "output_type": "display_data"
    }
   ],
   "source": [
    "# visualising results based on cross validation by grid search\n",
    "RF_grid_results =grid_RF.cv_results_\n",
    "plt.plot(np.array([3,12,21,30,38,51]),RF_grid_results['mean_test_score'],marker='s')\n",
    "plt.title('')\n",
    "plt.xlabel('') \n",
    "plt.ylabel('Mean test score') \n",
    "plt.show()"
   ]
  },
  {
   "cell_type": "markdown",
   "metadata": {},
   "source": [
    "Evaluating the performance on test data"
   ]
  },
  {
   "cell_type": "code",
   "execution_count": 38,
   "metadata": {},
   "outputs": [
    {
     "name": "stdout",
     "output_type": "stream",
     "text": [
      "Random Forest Accuracy- 0.9281876973916336\n"
     ]
    }
   ],
   "source": [
    "df_test = pd.read_csv('/Users/karunparashar/Downloads/mtx/Tst_rsmpl.csv')\n",
    "df_test.Plant_Type[df_test.Plant_Type==\"Myconid:\"]='Myconid'\n",
    "x_tet =df_test.iloc[:,0:52]\n",
    "y_tet = df_test.iloc[:,52]\n",
    "\n",
    "y_RF_test = RF_model.predict(x_tet)\n",
    "print(\"Random Forest Accuracy-\",accuracy_score(y_RF_test,y_tet))"
   ]
  },
  {
   "cell_type": "code",
   "execution_count": 22,
   "metadata": {},
   "outputs": [
    {
     "name": "stderr",
     "output_type": "stream",
     "text": [
      "//anaconda3/lib/python3.7/site-packages/sklearn/utils/deprecation.py:125: FutureWarning: You are accessing a training score ('split0_train_score'), which will not be available by default any more in 0.21. If you need training scores, please set return_train_score=True\n",
      "  warnings.warn(*warn_args, **warn_kwargs)\n",
      "//anaconda3/lib/python3.7/site-packages/sklearn/utils/deprecation.py:125: FutureWarning: You are accessing a training score ('split1_train_score'), which will not be available by default any more in 0.21. If you need training scores, please set return_train_score=True\n",
      "  warnings.warn(*warn_args, **warn_kwargs)\n",
      "//anaconda3/lib/python3.7/site-packages/sklearn/utils/deprecation.py:125: FutureWarning: You are accessing a training score ('mean_train_score'), which will not be available by default any more in 0.21. If you need training scores, please set return_train_score=True\n",
      "  warnings.warn(*warn_args, **warn_kwargs)\n",
      "//anaconda3/lib/python3.7/site-packages/sklearn/utils/deprecation.py:125: FutureWarning: You are accessing a training score ('std_train_score'), which will not be available by default any more in 0.21. If you need training scores, please set return_train_score=True\n",
      "  warnings.warn(*warn_args, **warn_kwargs)\n"
     ]
    },
    {
     "data": {
      "text/plain": [
       "5    {'n_estimators': 2000, 'max_features': 'sqrt'}\n",
       "Name: params, dtype: object"
      ]
     },
     "execution_count": 22,
     "metadata": {},
     "output_type": "execute_result"
    }
   ],
   "source": [
    "df_Rf = pd.DataFrame(data = grid_RF.cv_results_)\n",
    "best_params = df_Rf.params[df_Rf.rank_test_score==1]\n",
    "best_params"
   ]
  },
  {
   "cell_type": "markdown",
   "metadata": {},
   "source": [
    "Hence the model performs decently with number of features > 10 and the mean test score oscillate in a 0.05 range after that"
   ]
  },
  {
   "cell_type": "code",
   "execution_count": 36,
   "metadata": {},
   "outputs": [
    {
     "name": "stdout",
     "output_type": "stream",
     "text": [
      "               precision    recall  f1-score   support\n",
      "\n",
      "     Ascomoid       0.87      0.87      0.87     42387\n",
      "Assassin vine       0.83      0.92      0.87     51455\n",
      "   Basidirond       0.93      0.86      0.89      7853\n",
      "    Dark tree       0.95      0.82      0.88       652\n",
      " Hangman tree       0.97      0.48      0.64      3794\n",
      "       Kelpie       0.95      0.69      0.80      4763\n",
      "      Myconid       0.99      0.77      0.87      5299\n",
      "\n",
      "    micro avg       0.86      0.86      0.86    116203\n",
      "    macro avg       0.93      0.77      0.83    116203\n",
      " weighted avg       0.87      0.86      0.86    116203\n",
      "\n"
     ]
    }
   ],
   "source": [
    "cr = classification_report(y_RF_test,y_tet)\n",
    "print(cr)"
   ]
  },
  {
   "cell_type": "markdown",
   "metadata": {},
   "source": [
    "Here we have fairly accurate results because each class has great precision and recall scores along with consistent F1 scores\n",
    "\n",
    "Hence this model has performed on par with our expectations"
   ]
  },
  {
   "cell_type": "code",
   "execution_count": null,
   "metadata": {},
   "outputs": [],
   "source": []
  }
 ],
 "metadata": {
  "colab": {
   "authorship_tag": "ABX9TyMoau3wULBmnaV9DeaPl3Sq",
   "collapsed_sections": [],
   "name": "RandomForest.ipynb",
   "provenance": [
    {
     "file_id": "1bXn6mYUCXfQur5JzrIh7Ll53SjbtydWc",
     "timestamp": 1587734228673
    },
    {
     "file_id": "1Fy5xTIOKF5DsdZITUHBqONoa3B6mApxO",
     "timestamp": 1587734167297
    },
    {
     "file_id": "1ygcbxahHk2ZWpM3ioPbs6brCf4Au30_B",
     "timestamp": 1587734109759
    }
   ]
  },
  "kernelspec": {
   "display_name": "Python 3",
   "language": "python",
   "name": "python3"
  },
  "language_info": {
   "codemirror_mode": {
    "name": "ipython",
    "version": 3
   },
   "file_extension": ".py",
   "mimetype": "text/x-python",
   "name": "python",
   "nbconvert_exporter": "python",
   "pygments_lexer": "ipython3",
   "version": "3.7.3"
  }
 },
 "nbformat": 4,
 "nbformat_minor": 1
}
