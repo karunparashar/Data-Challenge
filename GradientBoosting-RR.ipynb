{
 "cells": [
  {
   "cell_type": "code",
   "execution_count": 7,
   "metadata": {
    "colab": {},
    "colab_type": "code",
    "id": "jkAJCStPTNIa"
   },
   "outputs": [],
   "source": [
    "import pandas as pd\n",
    "import numpy as np\n",
    "import seaborn as sns\n",
    "import matplotlib\n",
    "import matplotlib.pyplot as plt\n",
    "from sklearn.feature_selection import RFE\n",
    "from sklearn.preprocessing import LabelEncoder\n",
    "from sklearn.preprocessing import OrdinalEncoder\n",
    "from sklearn.metrics import accuracy_score\n",
    "from sklearn.metrics import classification_report\n",
    "from sklearn.model_selection import RandomizedSearchCV \n",
    "from sklearn.model_selection import train_test_split\n",
    "from imblearn.over_sampling import SMOTE\n",
    "from imblearn.under_sampling import RandomUnderSampler\n",
    "from imblearn.pipeline import Pipeline"
   ]
  },
  {
   "cell_type": "code",
   "execution_count": 38,
   "metadata": {
    "colab": {},
    "colab_type": "code",
    "id": "nIcqEJUZTkka"
   },
   "outputs": [],
   "source": [
    "#reading input file for splitting to train and test\n",
    "df_train = pd.read_csv('/Users/karunparashar/Downloads/mtx/Train_rsmpl.csv')\n",
    "df = df_train.copy(deep=True)\n",
    "X_resampled = df.iloc[:,0:52]\n",
    "y_resampled = df.iloc[:,52]\n",
    "x_train, x_test, y_train, y_test = train_test_split(X_resampled,y_resampled,train_size=0.8,test_size=0.2,\n",
    "                                                    random_state = 7)"
   ]
  },
  {
   "cell_type": "code",
   "execution_count": 5,
   "metadata": {
    "colab": {},
    "colab_type": "code",
    "id": "48-5hq-PT9EX"
   },
   "outputs": [
    {
     "name": "stderr",
     "output_type": "stream",
     "text": [
      "//anaconda3/lib/python3.7/site-packages/sklearn/model_selection/_search.py:271: UserWarning: The total space of parameters 4 is smaller than n_iter=10. Running 4 iterations. For exhaustive searches, use GridSearchCV.\n",
      "  % (grid_size, self.n_iter, grid_size), UserWarning)\n",
      "[Parallel(n_jobs=1)]: Using backend SequentialBackend with 1 concurrent workers.\n"
     ]
    },
    {
     "name": "stdout",
     "output_type": "stream",
     "text": [
      "Fitting 2 folds for each of 4 candidates, totalling 8 fits\n",
      "[CV] n_estimators=100, learning_rate=0.01 ............................\n",
      "[CV]  n_estimators=100, learning_rate=0.01, score=0.6970382362744632, total= 1.1min\n",
      "[CV] n_estimators=100, learning_rate=0.01 ............................\n"
     ]
    },
    {
     "name": "stderr",
     "output_type": "stream",
     "text": [
      "[Parallel(n_jobs=1)]: Done   1 out of   1 | elapsed:  1.1min remaining:    0.0s\n"
     ]
    },
    {
     "name": "stdout",
     "output_type": "stream",
     "text": [
      "[CV]  n_estimators=100, learning_rate=0.01, score=0.6913900661936283, total=  59.7s\n",
      "[CV] n_estimators=1000, learning_rate=0.01 ...........................\n"
     ]
    },
    {
     "name": "stderr",
     "output_type": "stream",
     "text": [
      "[Parallel(n_jobs=1)]: Done   2 out of   2 | elapsed:  2.1min remaining:    0.0s\n"
     ]
    },
    {
     "name": "stdout",
     "output_type": "stream",
     "text": [
      "[CV]  n_estimators=1000, learning_rate=0.01, score=0.8134374553592686, total=11.6min\n",
      "[CV] n_estimators=1000, learning_rate=0.01 ...........................\n",
      "[CV]  n_estimators=1000, learning_rate=0.01, score=0.8083956378875184, total=11.3min\n",
      "[CV] n_estimators=100, learning_rate=0.1 .............................\n",
      "[CV]  n_estimators=100, learning_rate=0.1, score=0.8127232036569687, total=  54.4s\n",
      "[CV] n_estimators=100, learning_rate=0.1 .............................\n",
      "[CV]  n_estimators=100, learning_rate=0.1, score=0.8108243249678556, total=  54.8s\n",
      "[CV] n_estimators=1000, learning_rate=0.1 ............................\n",
      "[CV]  n_estimators=1000, learning_rate=0.1, score=0.8859101947526308, total= 8.9min\n",
      "[CV] n_estimators=1000, learning_rate=0.1 ............................\n",
      "[CV]  n_estimators=1000, learning_rate=0.1, score=0.8878041811514834, total= 8.9min\n"
     ]
    },
    {
     "name": "stderr",
     "output_type": "stream",
     "text": [
      "[Parallel(n_jobs=1)]: Done   8 out of   8 | elapsed: 45.3min finished\n"
     ]
    }
   ],
   "source": [
    "#Gradient Boosting\n",
    "from sklearn.ensemble import GradientBoostingClassifier\n",
    "\n",
    "#defining base classifier\n",
    "gbm=  GradientBoostingClassifier()\n",
    "\n",
    "#parameters to be tuned\n",
    "param_grid_GBM = {'learning_rate':[0.01,0.1],\n",
    "                  \"n_estimators\" : [100,1000]}\n",
    "\n",
    "#grid search initialisation                  \n",
    "grid_gbm = RandomizedSearchCV(gbm, param_grid_GBM, cv = 2,verbose = 3)\n",
    "\n",
    "#training on model created using grid search\n",
    "GBM_model = grid_gbm.fit(x_train, y_train)\n",
    "\n",
    "#predictions based on this model\n",
    "grid_predictions_GBM = GBM_model.predict(x_test) \n",
    "\n",
    "#calculating accuracy\n",
    "GBM_acc_grid = accuracy_score(y_test,grid_predictions_GBM)\n"
   ]
  },
  {
   "cell_type": "code",
   "execution_count": 27,
   "metadata": {
    "scrolled": false
   },
   "outputs": [
    {
     "data": {
      "image/png": "[encoded data removed]",
      "text/plain": [
       "<Figure size 576x396 with 1 Axes>"
      ]
     },
     "metadata": {},
     "output_type": "display_data"
    }
   ],
   "source": [
    "# visualising results based on cross validation by grid search\n",
    "GBM_grid_results =grid_gbm.cv_results_\n",
    "plt.plot(np.array([1,3,5,8]),GBM_grid_results['mean_test_score'],marker='*')\n",
    "plt.title('GBM vs Mean accuracy')\n",
    "plt.xlabel('Number of features') \n",
    "plt.ylabel('Mean test score') \n",
    "plt.show()"
   ]
  },
  {
   "cell_type": "markdown",
   "metadata": {},
   "source": [
    "Now we will check the performance of our model against the test resampled data:"
   ]
  },
  {
   "cell_type": "code",
   "execution_count": 41,
   "metadata": {},
   "outputs": [
    {
     "name": "stdout",
     "output_type": "stream",
     "text": [
      "0.8813032537886285\n"
     ]
    }
   ],
   "source": [
    "#test accuracy check\n",
    "df_test = pd.read_csv('/Users/karunparashar/Downloads/mtx/Tst_rsmpl.csv')\n",
    "x_tet = df_test.iloc[:,0:52]\n",
    "y_tet = df_test.iloc[:,52]\n",
    "accuracy_score(GBM_model.predict(x_tet),y_tet)"
   ]
  },
  {
   "cell_type": "markdown",
   "metadata": {},
   "source": [
    "Extracting the best parameters from the trained model using grid search"
   ]
  },
  {
   "cell_type": "code",
   "execution_count": 35,
   "metadata": {
    "scrolled": true
   },
   "outputs": [
    {
     "name": "stderr",
     "output_type": "stream",
     "text": [
      "//anaconda3/lib/python3.7/site-packages/sklearn/utils/deprecation.py:125: FutureWarning: You are accessing a training score ('split0_train_score'), which will not be available by default any more in 0.21. If you need training scores, please set return_train_score=True\n",
      "  warnings.warn(*warn_args, **warn_kwargs)\n",
      "//anaconda3/lib/python3.7/site-packages/sklearn/utils/deprecation.py:125: FutureWarning: You are accessing a training score ('split1_train_score'), which will not be available by default any more in 0.21. If you need training scores, please set return_train_score=True\n",
      "  warnings.warn(*warn_args, **warn_kwargs)\n",
      "//anaconda3/lib/python3.7/site-packages/sklearn/utils/deprecation.py:125: FutureWarning: You are accessing a training score ('mean_train_score'), which will not be available by default any more in 0.21. If you need training scores, please set return_train_score=True\n",
      "  warnings.warn(*warn_args, **warn_kwargs)\n",
      "//anaconda3/lib/python3.7/site-packages/sklearn/utils/deprecation.py:125: FutureWarning: You are accessing a training score ('std_train_score'), which will not be available by default any more in 0.21. If you need training scores, please set return_train_score=True\n",
      "  warnings.warn(*warn_args, **warn_kwargs)\n"
     ]
    },
    {
     "data": {
      "text/plain": [
       "3    {'n_estimators': 1000, 'learning_rate': 0.1}\n",
       "Name: params, dtype: object"
      ]
     },
     "execution_count": 35,
     "metadata": {},
     "output_type": "execute_result"
    }
   ],
   "source": [
    "df_gbm= pd.DataFrame(data = GBM_grid_results)\n",
    "best_params = df_gbm.params[df_gbm.rank_test_score ==1]\n",
    "best_params"
   ]
  },
  {
   "cell_type": "markdown",
   "metadata": {},
   "source": [
    "Now we know the best parameter metrics of our best fitted model, let's use it to plot a classification report of our own"
   ]
  },
  {
   "cell_type": "code",
   "execution_count": 36,
   "metadata": {},
   "outputs": [
    {
     "name": "stdout",
     "output_type": "stream",
     "text": [
      "               precision    recall  f1-score   support\n",
      "\n",
      "     Ascomoid       0.80      0.81      0.81     14830\n",
      "Assassin vine       0.74      0.82      0.78     13470\n",
      "   Basidirond       0.83      0.92      0.87     13470\n",
      "    Dark tree       0.99      0.95      0.97     15664\n",
      " Hangman tree       0.98      0.91      0.94     16200\n",
      "       Kelpie       0.92      0.85      0.88     16218\n",
      "      Myconid       0.97      0.96      0.97     15302\n",
      "\n",
      "    micro avg       0.89      0.89      0.89    105154\n",
      "    macro avg       0.89      0.89      0.89    105154\n",
      " weighted avg       0.89      0.89      0.89    105154\n",
      "\n"
     ]
    }
   ],
   "source": [
    "cr = classification_report(GBM_model.predict(x_tet),y_tet)\n",
    "print(cr)"
   ]
  }
 ],
 "metadata": {
  "colab": {
   "authorship_tag": "ABX9TyNltwIYjucNh2hYyOi08B7a",
   "collapsed_sections": [],
   "name": "GradientBoosting.ipynb",
   "provenance": [
    {
     "file_id": "1ygcbxahHk2ZWpM3ioPbs6brCf4Au30_B",
     "timestamp": 1587734109759
    }
   ]
  },
  "kernelspec": {
   "display_name": "Python 3",
   "language": "python",
   "name": "python3"
  },
  "language_info": {
   "codemirror_mode": {
    "name": "ipython",
    "version": 3
   },
   "file_extension": ".py",
   "mimetype": "text/x-python",
   "name": "python",
   "nbconvert_exporter": "python",
   "pygments_lexer": "ipython3",
   "version": "3.7.3"
  }
 },
 "nbformat": 4,
 "nbformat_minor": 1
}
