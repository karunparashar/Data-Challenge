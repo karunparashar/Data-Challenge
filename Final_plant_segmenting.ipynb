{
 "cells": [
  {
   "cell_type": "code",
   "execution_count": 2,
   "metadata": {
    "colab": {
     "base_uri": "https://localhost:8080/",
     "height": 111
    },
    "colab_type": "code",
    "id": "Ii7vVt5t643Q",
    "outputId": "bc50c81e-7f2b-4af5-f0d3-1efca9ad3124"
   },
   "outputs": [
    {
     "name": "stderr",
     "output_type": "stream",
     "text": [
      "/usr/local/lib/python3.6/dist-packages/statsmodels/tools/_testing.py:19: FutureWarning: pandas.util.testing is deprecated. Use the functions in the public API at pandas.testing instead.\n",
      "  import pandas.util.testing as tm\n"
     ]
    }
   ],
   "source": [
    "import pandas as pd\n",
    "import numpy as np\n",
    "import seaborn as sns\n",
    "import matplotlib\n",
    "import matplotlib.pyplot as plt\n",
    "from sklearn.feature_selection import RFE\n",
    "from sklearn.preprocessing import LabelEncoder\n",
    "from sklearn.preprocessing import OrdinalEncoder"
   ]
  },
  {
   "cell_type": "markdown",
   "metadata": {
    "colab_type": "text",
    "id": "XPJjpOGmR3Up"
   },
   "source": [
    "### Reading input files for both train and test data and merging them together to work on the combined data further"
   ]
  },
  {
   "cell_type": "code",
   "execution_count": 0,
   "metadata": {
    "colab": {},
    "colab_type": "code",
    "id": "FD6FBohY7CXS"
   },
   "outputs": [],
   "source": [
    "df_train = pd.read_csv('/content/drive/My Drive/capstone_train.csv')\n",
    "df_test = pd.read_csv('/content/drive/My Drive/capstone_test.csv')\n",
    "df_final = pd.concat([df_train,df_test],axis =0)\n",
    "df_final  = df_final.dropna(axis='columns')\n",
    "df_final.Plant_Type[df_final.Plant_Type=='Myconid:']=\"Myconid\"\n",
    "df_final = df_final.reset_index(drop=True)"
   ]
  },
  {
   "cell_type": "markdown",
   "metadata": {
    "colab_type": "text",
    "id": "rJXAwjb121IS"
   },
   "source": [
    "In order to segment the types of plants based on their average distance from the water source and their sunlight consumption, we treat the following parameters as averages:\n",
    "\n",
    "1.Average Distance is the average of distance from water source and its standing distance from water source\n",
    "\n",
    "2.Average sunlight is the average of shadow index for morning and evening(amount of sunlight is proportional to shadow in morning and evening)\n"
   ]
  },
  {
   "cell_type": "code",
   "execution_count": 10,
   "metadata": {
    "colab": {
     "base_uri": "https://localhost:8080/",
     "height": 419
    },
    "colab_type": "code",
    "id": "7J3Sd-N-21Ix",
    "outputId": "f5973211-33e7-41bb-d854-211b3a39f5d8"
   },
   "outputs": [
    {
     "data": {
      "text/html": [
       "<div>\n",
       "<style scoped>\n",
       "    .dataframe tbody tr th:only-of-type {\n",
       "        vertical-align: middle;\n",
       "    }\n",
       "\n",
       "    .dataframe tbody tr th {\n",
       "        vertical-align: top;\n",
       "    }\n",
       "\n",
       "    .dataframe thead th {\n",
       "        text-align: right;\n",
       "    }\n",
       "</style>\n",
       "<table border=\"1\" class=\"dataframe\">\n",
       "  <thead>\n",
       "    <tr style=\"text-align: right;\">\n",
       "      <th></th>\n",
       "      <th>Average_Distance</th>\n",
       "      <th>Average_sunlight</th>\n",
       "      <th>Plant_Type</th>\n",
       "    </tr>\n",
       "  </thead>\n",
       "  <tbody>\n",
       "    <tr>\n",
       "      <th>0</th>\n",
       "      <td>148.0</td>\n",
       "      <td>177.0</td>\n",
       "      <td>Assassin vine</td>\n",
       "    </tr>\n",
       "    <tr>\n",
       "      <th>1</th>\n",
       "      <td>501.0</td>\n",
       "      <td>178.0</td>\n",
       "      <td>Assassin vine</td>\n",
       "    </tr>\n",
       "    <tr>\n",
       "      <th>2</th>\n",
       "      <td>384.5</td>\n",
       "      <td>186.0</td>\n",
       "      <td>Ascomoid</td>\n",
       "    </tr>\n",
       "    <tr>\n",
       "      <th>3</th>\n",
       "      <td>95.0</td>\n",
       "      <td>191.0</td>\n",
       "      <td>Assassin vine</td>\n",
       "    </tr>\n",
       "    <tr>\n",
       "      <th>4</th>\n",
       "      <td>335.5</td>\n",
       "      <td>186.5</td>\n",
       "      <td>Assassin vine</td>\n",
       "    </tr>\n",
       "    <tr>\n",
       "      <th>...</th>\n",
       "      <td>...</td>\n",
       "      <td>...</td>\n",
       "      <td>...</td>\n",
       "    </tr>\n",
       "    <tr>\n",
       "      <th>581007</th>\n",
       "      <td>179.5</td>\n",
       "      <td>183.5</td>\n",
       "      <td>Ascomoid</td>\n",
       "    </tr>\n",
       "    <tr>\n",
       "      <th>581008</th>\n",
       "      <td>138.5</td>\n",
       "      <td>182.0</td>\n",
       "      <td>Assassin vine</td>\n",
       "    </tr>\n",
       "    <tr>\n",
       "      <th>581009</th>\n",
       "      <td>171.5</td>\n",
       "      <td>173.0</td>\n",
       "      <td>Ascomoid</td>\n",
       "    </tr>\n",
       "    <tr>\n",
       "      <th>581010</th>\n",
       "      <td>124.5</td>\n",
       "      <td>165.5</td>\n",
       "      <td>Assassin vine</td>\n",
       "    </tr>\n",
       "    <tr>\n",
       "      <th>581011</th>\n",
       "      <td>16.0</td>\n",
       "      <td>183.0</td>\n",
       "      <td>Ascomoid</td>\n",
       "    </tr>\n",
       "  </tbody>\n",
       "</table>\n",
       "<p>581012 rows × 3 columns</p>\n",
       "</div>"
      ],
      "text/plain": [
       "        Average_Distance  Average_sunlight     Plant_Type\n",
       "0                  148.0             177.0  Assassin vine\n",
       "1                  501.0             178.0  Assassin vine\n",
       "2                  384.5             186.0       Ascomoid\n",
       "3                   95.0             191.0  Assassin vine\n",
       "4                  335.5             186.5  Assassin vine\n",
       "...                  ...               ...            ...\n",
       "581007             179.5             183.5       Ascomoid\n",
       "581008             138.5             182.0  Assassin vine\n",
       "581009             171.5             173.0       Ascomoid\n",
       "581010             124.5             165.5  Assassin vine\n",
       "581011              16.0             183.0       Ascomoid\n",
       "\n",
       "[581012 rows x 3 columns]"
      ]
     },
     "execution_count": 10,
     "metadata": {
      "tags": []
     },
     "output_type": "execute_result"
    }
   ],
   "source": [
    "dd = df_final.copy(deep =True)\n",
    "dd['Average_sunlight'] = pd.Series([(i+j)/2 for i,j in zip(dd.Shadow_In_Evening,dd.Shadow_In_Morning)])\n",
    "dd['Average_Distance'] = pd.Series([(i+j)/2 for i,j in zip(dd.Distance_To_Water_Source,dd.Standing_Distance_To_Water_Source)])\n",
    "dd = dd.loc[:,['Average_Distance','Average_sunlight','Plant_Type']]\n",
    "dd"
   ]
  },
  {
   "cell_type": "markdown",
   "metadata": {
    "colab_type": "text",
    "id": "eQLBT1GrREnD"
   },
   "source": [
    "## Creating two DataFrames with conditions favorable and unfavorable for the survival for plant species.\n",
    "\n",
    "1.Favorable is defined as the condition for a plant if it receives more than avearge values of sunlight thorughout the day and has distance less than the average distance from the water sources(or is closer to water)\n",
    "\n",
    "2.Unfavorable is defined as the condition for a plant if it receives less than avearge value of sunlight thorughout the day and has distance more than the average distance from the water sources(or is farther from water)"
   ]
  },
  {
   "cell_type": "code",
   "execution_count": 0,
   "metadata": {
    "colab": {},
    "colab_type": "code",
    "id": "XdZ-baWy-UOc"
   },
   "outputs": [],
   "source": [
    "favorable_df = dd[(dd['Average_Distance'] < np.mean(dd['Average_Distance'])) & (dd['Average_sunlight'] > np.mean(dd['Average_sunlight']))]\n",
    "unfavorable_df = dd[(dd['Average_Distance'] > np.mean(dd['Average_Distance'])) & (dd['Average_sunlight'] < np.mean(dd['Average_sunlight']))]\n",
    "survival_ratio = 100*(len(favorable_df)/len(dd))\n",
    "threat_ratio = 100*(len(unfavorable_df)/len(dd))"
   ]
  },
  {
   "cell_type": "markdown",
   "metadata": {
    "colab_type": "text",
    "id": "sddHdJdNTD_8"
   },
   "source": [
    "## Now we have the plants whose conditions are favorable as unfavorable\n",
    "\n",
    "Now let us extract the information of the key species which is present in favorable/unfavorable environment"
   ]
  },
  {
   "cell_type": "code",
   "execution_count": 20,
   "metadata": {
    "colab": {
     "base_uri": "https://localhost:8080/",
     "height": 136
    },
    "colab_type": "code",
    "id": "u0gH1nYcU-Du",
    "outputId": "3ef6ecfa-3e4f-4c65-c179-fc2af329b4cc"
   },
   "outputs": [
    {
     "data": {
      "text/plain": [
       "{'Ascomoid': 38467,\n",
       " 'Assassin vine': 45941,\n",
       " 'Basidirond': 7083,\n",
       " 'Dark tree': 432,\n",
       " 'Hangman tree': 1611,\n",
       " 'Kelpie': 2557,\n",
       " 'Myconid': 4783}"
      ]
     },
     "execution_count": 20,
     "metadata": {
      "tags": []
     },
     "output_type": "execute_result"
    }
   ],
   "source": [
    "#extracting species with unfavorable conditions\n",
    "unfavorable_species = {}\n",
    "for i in unfavorable_df.Plant_Type.unique():\n",
    "  unfavorable_species[i] = unfavorable_df.Plant_Type[unfavorable_df.Plant_Type==i].count()\n",
    "unfavorable_species"
   ]
  },
  {
   "cell_type": "markdown",
   "metadata": {
    "colab_type": "text",
    "id": "x9ZJb4iVVE6j"
   },
   "source": [
    "From above dictionary, the top 3 plant species which are under unfavorable conditions are- 'Ascomoid', 'Assassin vine' and 'Basidirond'"
   ]
  },
  {
   "cell_type": "code",
   "execution_count": 19,
   "metadata": {
    "colab": {
     "base_uri": "https://localhost:8080/",
     "height": 136
    },
    "colab_type": "code",
    "id": "VSkLuZBLALv3",
    "outputId": "86d462e1-bba2-4133-cb9b-ee2958c9f4ab"
   },
   "outputs": [
    {
     "data": {
      "text/plain": [
       "{'Ascomoid': 79868,\n",
       " 'Assassin vine': 97795,\n",
       " 'Basidirond': 9533,\n",
       " 'Dark tree': 904,\n",
       " 'Hangman tree': 3303,\n",
       " 'Kelpie': 4934,\n",
       " 'Myconid': 5041}"
      ]
     },
     "execution_count": 19,
     "metadata": {
      "tags": []
     },
     "output_type": "execute_result"
    }
   ],
   "source": [
    "#plant species with favorable conditions-storing them in a dictionary with their count\n",
    "favorable_species = {}\n",
    "for i in favorable_df.Plant_Type.unique():\n",
    "  favorable_species[i] = favorable_df.Plant_Type[favorable_df.Plant_Type==i].count()\n",
    "favorable_species"
   ]
  },
  {
   "cell_type": "markdown",
   "metadata": {
    "colab_type": "text",
    "id": "4f-0sejdVfsT"
   },
   "source": [
    "This tells us that the species 'Dark Tree' has the least number of plants that have favorable conditions"
   ]
  },
  {
   "cell_type": "markdown",
   "metadata": {
    "colab_type": "text",
    "id": "AFzP6rihVc_S"
   },
   "source": [
    "# Conclusion"
   ]
  },
  {
   "cell_type": "markdown",
   "metadata": {
    "colab_type": "text",
    "id": "vTkKUMgXWeqc"
   },
   "source": [
    "## There are two inferences that are obtained from the above analysis\n",
    "### 1. The species 'Ascomoid', 'Assassin vine' and 'Basidirond' need more attention and plants with affinity towards favorable conditions\n",
    "### 2. The plant species named Dark tree has the fewest number for favorable conditions, and we might want to increase the number\n",
    "\n",
    "### Note: For the second inference, there might be a possibility that the Dark tree is a plant for which the favorable conditions are in contrast to other species(as the name suggests dark) and we could then change the criteria of favorable conditions for the same"
   ]
  },
  {
   "cell_type": "code",
   "execution_count": 0,
   "metadata": {
    "colab": {},
    "colab_type": "code",
    "id": "oY-ERg0iXPjG"
   },
   "outputs": [],
   "source": []
  }
 ],
 "metadata": {
  "colab": {
   "collapsed_sections": [],
   "name": "Final_plant_segmenting.ipynb",
   "provenance": []
  },
  "kernelspec": {
   "display_name": "Python 3",
   "language": "python",
   "name": "python3"
  },
  "language_info": {
   "codemirror_mode": {
    "name": "ipython",
    "version": 3
   },
   "file_extension": ".py",
   "mimetype": "text/x-python",
   "name": "python",
   "nbconvert_exporter": "python",
   "pygments_lexer": "ipython3",
   "version": "3.7.4"
  }
 },
 "nbformat": 4,
 "nbformat_minor": 1
}
