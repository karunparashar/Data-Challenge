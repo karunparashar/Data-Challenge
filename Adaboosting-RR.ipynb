{
 "cells": [
  {
   "cell_type": "code",
   "execution_count": 2,
   "metadata": {
    "colab": {},
    "colab_type": "code",
    "id": "jkAJCStPTNIa"
   },
   "outputs": [],
   "source": [
    "import pandas as pd\n",
    "import numpy as np\n",
    "import seaborn as sns\n",
    "import matplotlib\n",
    "import matplotlib.pyplot as plt\n",
    "from sklearn.feature_selection import RFE\n",
    "from sklearn.preprocessing import LabelEncoder\n",
    "from sklearn.preprocessing import OrdinalEncoder\n",
    "from sklearn.metrics import accuracy_score\n",
    "from sklearn.metrics import classification_report\n",
    "from sklearn.model_selection import RandomizedSearchCV \n",
    "from sklearn.model_selection import train_test_split\n",
    "from imblearn.over_sampling import SMOTE\n",
    "from imblearn.under_sampling import RandomUnderSampler\n",
    "from imblearn.pipeline import Pipeline"
   ]
  },
  {
   "cell_type": "code",
   "execution_count": 4,
   "metadata": {
    "colab": {},
    "colab_type": "code",
    "id": "nIcqEJUZTkka"
   },
   "outputs": [],
   "source": [
    "#reading input file for splitting to train and test\n",
    "df_train = pd.read_csv('/Users/karunparashar/Downloads/mtx/Train_rsmpl.csv')\n",
    "df = df_train.copy(deep=True)\n",
    "X_resampled = df.iloc[:,0:52]\n",
    "y_resampled = df.iloc[:,52]\n",
    "x_train, x_test, y_train, y_test = train_test_split(X_resampled,y_resampled,train_size=0.8,test_size=0.2,\n",
    "                                                    random_state = 7)"
   ]
  },
  {
   "cell_type": "code",
   "execution_count": 5,
   "metadata": {
    "colab": {},
    "colab_type": "code",
    "id": "48-5hq-PT9EX"
   },
   "outputs": [
    {
     "name": "stderr",
     "output_type": "stream",
     "text": [
      "//anaconda3/lib/python3.7/site-packages/sklearn/model_selection/_search.py:271: UserWarning: The total space of parameters 4 is smaller than n_iter=10. Running 4 iterations. For exhaustive searches, use GridSearchCV.\n",
      "  % (grid_size, self.n_iter, grid_size), UserWarning)\n"
     ]
    },
    {
     "name": "stdout",
     "output_type": "stream",
     "text": [
      "Fitting 2 folds for each of 4 candidates, totalling 8 fits\n"
     ]
    },
    {
     "name": "stderr",
     "output_type": "stream",
     "text": [
      "[Parallel(n_jobs=1)]: Using backend SequentialBackend with 1 concurrent workers.\n"
     ]
    },
    {
     "name": "stdout",
     "output_type": "stream",
     "text": [
      "[CV] n_estimators=100, learning_rate=0.01 ............................\n",
      "[CV]  n_estimators=100, learning_rate=0.01, score=0.3225560687586305, total=  13.7s\n",
      "[CV] n_estimators=100, learning_rate=0.01 ............................\n"
     ]
    },
    {
     "name": "stderr",
     "output_type": "stream",
     "text": [
      "[Parallel(n_jobs=1)]: Done   1 out of   1 | elapsed:   14.8s remaining:    0.0s\n"
     ]
    },
    {
     "name": "stdout",
     "output_type": "stream",
     "text": [
      "[CV]  n_estimators=100, learning_rate=0.01, score=0.31906281251488167, total=  12.6s\n",
      "[CV] n_estimators=1000, learning_rate=0.01 ...........................\n"
     ]
    },
    {
     "name": "stderr",
     "output_type": "stream",
     "text": [
      "[Parallel(n_jobs=1)]: Done   2 out of   2 | elapsed:   28.5s remaining:    0.0s\n"
     ]
    },
    {
     "name": "stdout",
     "output_type": "stream",
     "text": [
      "[CV]  n_estimators=1000, learning_rate=0.01, score=0.4006475882100852, total= 2.0min\n",
      "[CV] n_estimators=1000, learning_rate=0.01 ...........................\n",
      "[CV]  n_estimators=1000, learning_rate=0.01, score=0.38682794418781846, total= 1.9min\n",
      "[CV] n_estimators=100, learning_rate=0.1 .............................\n",
      "[CV]  n_estimators=100, learning_rate=0.1, score=0.3934336460168563, total=  11.1s\n",
      "[CV] n_estimators=100, learning_rate=0.1 .............................\n",
      "[CV]  n_estimators=100, learning_rate=0.1, score=0.3991142435354064, total=  11.2s\n",
      "[CV] n_estimators=1000, learning_rate=0.1 ............................\n",
      "[CV]  n_estimators=1000, learning_rate=0.1, score=0.454216465882577, total= 1.9min\n",
      "[CV] n_estimators=1000, learning_rate=0.1 ............................\n",
      "[CV]  n_estimators=1000, learning_rate=0.1, score=0.44664031620553357, total= 1.9min\n"
     ]
    },
    {
     "name": "stderr",
     "output_type": "stream",
     "text": [
      "[Parallel(n_jobs=1)]: Done   8 out of   8 | elapsed:  9.3min finished\n"
     ]
    }
   ],
   "source": [
    "#Gradient Boosting\n",
    "from sklearn.ensemble import AdaBoostClassifier\n",
    "import time\n",
    "#defining base classifier\n",
    "Adb=  AdaBoostClassifier()\n",
    "\n",
    "#parameters to be tuned\n",
    "param_grid_ABM = {'learning_rate':[0.01,0.1],\n",
    "                  \"n_estimators\" : [100,1000]}\n",
    "\n",
    "s = time.time()\n",
    "#grid search initialisation                  \n",
    "grid_abm = RandomizedSearchCV(Adb, param_grid_ABM, cv = 2,verbose = 3)\n",
    "\n",
    "#training on model created using grid search\n",
    "ABM_model = grid_abm.fit(x_train, y_train)\n",
    "e = time.time()\n",
    "#predictions based on this model\n",
    "grid_predictions_ABM = ABM_model.predict(x_test) \n",
    "times = e-s\n",
    "#calculating accuracy\n",
    "ABM_acc_grid = accuracy_score(y_test,grid_predictions_ABM)\n"
   ]
  },
  {
   "cell_type": "code",
   "execution_count": 6,
   "metadata": {},
   "outputs": [
    {
     "data": {
      "text/plain": [
       "0.4317142857142857"
      ]
     },
     "execution_count": 6,
     "metadata": {},
     "output_type": "execute_result"
    }
   ],
   "source": [
    "ABM_acc_grid"
   ]
  },
  {
   "cell_type": "code",
   "execution_count": 12,
   "metadata": {
    "scrolled": false
   },
   "outputs": [
    {
     "data": {
      "image/png": "[encoded data removed]",
      "text/plain": [
       "<Figure size 432x288 with 1 Axes>"
      ]
     },
     "metadata": {
      "needs_background": "light"
     },
     "output_type": "display_data"
    }
   ],
   "source": [
    "# visualising results based on cross validation by grid search\n",
    "ABM_grid_results =grid_abm.cv_results_\n",
    "plt.plot(np.array([1,3,5,8]),ABM_grid_results['mean_test_score'],marker='*')\n",
    "plt.title('ABM vs Mean accuracy')\n",
    "plt.xlabel('Number of features') \n",
    "plt.ylabel('Mean test score') \n",
    "plt.show()"
   ]
  },
  {
   "cell_type": "markdown",
   "metadata": {},
   "source": [
    "Now we will check the performance of our model against the test resampled data:"
   ]
  },
  {
   "cell_type": "code",
   "execution_count": 7,
   "metadata": {},
   "outputs": [
    {
     "data": {
      "text/plain": [
       "0.4307016375981893"
      ]
     },
     "execution_count": 7,
     "metadata": {},
     "output_type": "execute_result"
    }
   ],
   "source": [
    "#test accuracy check\n",
    "df_test = pd.read_csv('/Users/karunparashar/Downloads/mtx/Tst_rsmpl.csv')\n",
    "x_tet = df_test.iloc[:,0:52]\n",
    "y_tet = df_test.iloc[:,52]\n",
    "accuracy_score(ABM_model.predict(x_tet),y_tet)"
   ]
  },
  {
   "cell_type": "markdown",
   "metadata": {},
   "source": [
    "Extracting the best parameters from the trained model using grid search"
   ]
  },
  {
   "cell_type": "code",
   "execution_count": 13,
   "metadata": {
    "scrolled": true
   },
   "outputs": [
    {
     "name": "stderr",
     "output_type": "stream",
     "text": [
      "//anaconda3/lib/python3.7/site-packages/sklearn/utils/deprecation.py:125: FutureWarning: You are accessing a training score ('split0_train_score'), which will not be available by default any more in 0.21. If you need training scores, please set return_train_score=True\n",
      "  warnings.warn(*warn_args, **warn_kwargs)\n",
      "//anaconda3/lib/python3.7/site-packages/sklearn/utils/deprecation.py:125: FutureWarning: You are accessing a training score ('split1_train_score'), which will not be available by default any more in 0.21. If you need training scores, please set return_train_score=True\n",
      "  warnings.warn(*warn_args, **warn_kwargs)\n",
      "//anaconda3/lib/python3.7/site-packages/sklearn/utils/deprecation.py:125: FutureWarning: You are accessing a training score ('mean_train_score'), which will not be available by default any more in 0.21. If you need training scores, please set return_train_score=True\n",
      "  warnings.warn(*warn_args, **warn_kwargs)\n",
      "//anaconda3/lib/python3.7/site-packages/sklearn/utils/deprecation.py:125: FutureWarning: You are accessing a training score ('std_train_score'), which will not be available by default any more in 0.21. If you need training scores, please set return_train_score=True\n",
      "  warnings.warn(*warn_args, **warn_kwargs)\n"
     ]
    },
    {
     "data": {
      "text/plain": [
       "2    {'n_estimators': 100, 'learning_rate': 0.1}\n",
       "Name: params, dtype: object"
      ]
     },
     "execution_count": 13,
     "metadata": {},
     "output_type": "execute_result"
    }
   ],
   "source": [
    "df_abm= pd.DataFrame(data = ABM_grid_results)\n",
    "best_params = df_abm.params[df_abm.rank_test_score ==1]\n",
    "best_params"
   ]
  },
  {
   "cell_type": "markdown",
   "metadata": {},
   "source": [
    "Now we know the best parameter metrics of our best fitted model, let's use it to plot a classification report of our own"
   ]
  },
  {
   "cell_type": "code",
   "execution_count": 8,
   "metadata": {},
   "outputs": [
    {
     "name": "stderr",
     "output_type": "stream",
     "text": [
      "//anaconda3/lib/python3.7/site-packages/sklearn/metrics/classification.py:1145: UndefinedMetricWarning: Recall and F-score are ill-defined and being set to 0.0 in labels with no true samples.\n",
      "  'recall', 'true', average, warn_for)\n"
     ]
    },
    {
     "name": "stdout",
     "output_type": "stream",
     "text": [
      "               precision    recall  f1-score   support\n",
      "\n",
      "     Ascomoid       0.47      0.37      0.42     18878\n",
      "Assassin vine       0.08      0.34      0.13      3515\n",
      "   Basidirond       0.38      0.41      0.39     13636\n",
      "    Dark tree       0.00      0.00      0.00         0\n",
      " Hangman tree       0.64      0.56      0.60     17201\n",
      "       Kelpie       0.81      0.34      0.48     35454\n",
      "      Myconid       0.64      0.59      0.62     16470\n",
      "\n",
      "    micro avg       0.43      0.43      0.43    105154\n",
      "    macro avg       0.43      0.37      0.38    105154\n",
      " weighted avg       0.61      0.43      0.49    105154\n",
      "\n"
     ]
    }
   ],
   "source": [
    "cr = classification_report(ABM_model.predict(x_tet),y_tet)\n",
    "print(cr)"
   ]
  },
  {
   "cell_type": "code",
   "execution_count": null,
   "metadata": {},
   "outputs": [],
   "source": []
  }
 ],
 "metadata": {
  "colab": {
   "authorship_tag": "ABX9TyNltwIYjucNh2hYyOi08B7a",
   "collapsed_sections": [],
   "name": "GradientBoosting.ipynb",
   "provenance": [
    {
     "file_id": "1ygcbxahHk2ZWpM3ioPbs6brCf4Au30_B",
     "timestamp": 1587734109759
    }
   ]
  },
  "kernelspec": {
   "display_name": "Python 3",
   "language": "python",
   "name": "python3"
  },
  "language_info": {
   "codemirror_mode": {
    "name": "ipython",
    "version": 3
   },
   "file_extension": ".py",
   "mimetype": "text/x-python",
   "name": "python",
   "nbconvert_exporter": "python",
   "pygments_lexer": "ipython3",
   "version": "3.7.3"
  }
 },
 "nbformat": 4,
 "nbformat_minor": 1
}
