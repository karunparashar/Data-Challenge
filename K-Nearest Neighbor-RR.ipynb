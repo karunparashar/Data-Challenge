{
 "cells": [
  {
   "cell_type": "code",
   "execution_count": 40,
   "metadata": {
    "colab": {},
    "colab_type": "code",
    "id": "jkAJCStPTNIa"
   },
   "outputs": [],
   "source": [
    "import pandas as pd\n",
    "import numpy as np\n",
    "import seaborn as sns\n",
    "import matplotlib\n",
    "import matplotlib.pyplot as plt\n",
    "from sklearn.feature_selection import RFE\n",
    "from sklearn.preprocessing import LabelEncoder\n",
    "from sklearn.preprocessing import OrdinalEncoder\n",
    "from sklearn.model_selection import RandomizedSearchCV \n",
    "from sklearn.neighbors import KNeighborsClassifier\n",
    "from sklearn.metrics import accuracy_score\n",
    "from yellowbrick.classifier import ClassificationReport\n",
    "from sklearn.model_selection import train_test_split\n",
    "from sklearn.metrics import classification_report\n",
    "from imblearn.over_sampling import SMOTE\n",
    "from imblearn.under_sampling import RandomUnderSampler\n",
    "from imblearn.pipeline import Pipeline"
   ]
  },
  {
   "cell_type": "code",
   "execution_count": 21,
   "metadata": {
    "colab": {},
    "colab_type": "code",
    "id": "fJa3lMzlT5oi"
   },
   "outputs": [],
   "source": [
    "#Reading the input file and splitting it into train and test\n",
    "df_train = pd.read_csv('/Users/karunparashar/Downloads/mtx/Train_rsmpl.csv')\n",
    "df = df_train.copy(deep=True)\n",
    "X_resampled = df.iloc[:,0:52]\n",
    "y_resampled = df.iloc[:,52]\n",
    "x_train, x_test, y_train, y_test = train_test_split(X_resampled,y_resampled,train_size=0.8,test_size=0.2,\n",
    "                                                    random_state = 7)"
   ]
  },
  {
   "cell_type": "markdown",
   "metadata": {},
   "source": [
    "Building the classifier and hyper-parameter search across the classifier using RandomisedGridSearchCV"
   ]
  },
  {
   "cell_type": "code",
   "execution_count": 30,
   "metadata": {
    "colab": {},
    "colab_type": "code",
    "id": "48-5hq-PT9EX",
    "scrolled": false
   },
   "outputs": [
    {
     "name": "stdout",
     "output_type": "stream",
     "text": [
      "Fitting 2 folds for each of 4 candidates, totalling 8 fits\n"
     ]
    },
    {
     "name": "stderr",
     "output_type": "stream",
     "text": [
      "//anaconda3/lib/python3.7/site-packages/sklearn/model_selection/_search.py:271: UserWarning: The total space of parameters 4 is smaller than n_iter=10. Running 4 iterations. For exhaustive searches, use GridSearchCV.\n",
      "  % (grid_size, self.n_iter, grid_size), UserWarning)\n",
      "[Parallel(n_jobs=-1)]: Using backend LokyBackend with 4 concurrent workers.\n",
      "[Parallel(n_jobs=-1)]: Done   4 out of   8 | elapsed:   30.6s remaining:   30.6s\n",
      "[Parallel(n_jobs=-1)]: Done   8 out of   8 | elapsed:   56.1s finished\n"
     ]
    }
   ],
   "source": [
    "#defining base classifier\n",
    "knc = KNeighborsClassifier()\n",
    "\n",
    "#parameters to be tuned\n",
    "param_grid_knn = {'n_neighbors':[3,5,7,9]}\n",
    "\n",
    "#grid search initialisation\n",
    "grid_knn = RandomizedSearchCV(knc, param_grid_knn,cv =2, verbose = 3,n_jobs=-1)\n",
    "\n",
    "#training on model created using grid search\n",
    "knn_model = grid_knn.fit(x_train, y_train)\n",
    "\n",
    "#predictions based on this model\n",
    "grid_predictions_knn = knn_model.predict(x_test)\n",
    "\n",
    "#calculating accuracy\n",
    "knn_acc_grid = accuracy_score(y_test,grid_predictions_knn)"
   ]
  },
  {
   "cell_type": "code",
   "execution_count": 31,
   "metadata": {},
   "outputs": [
    {
     "data": {
      "image/png": "[encoded data removed]",
      "text/plain": [
       "<Figure size 576x396 with 1 Axes>"
      ]
     },
     "metadata": {},
     "output_type": "display_data"
    }
   ],
   "source": [
    "#visualising results based on cross validation by grid search\n",
    "KNN_grid_results =grid_knn.cv_results_\n",
    "plt.plot(np.array([3,5,7,9]),KNN_grid_results['mean_test_score'],marker='s')\n",
    "plt.title('KNN-number of neighbors vs Mean accuracy')\n",
    "plt.xlabel('Number of neighbors') \n",
    "plt.ylabel('Mean test score') \n",
    "plt.show()"
   ]
  },
  {
   "cell_type": "markdown",
   "metadata": {},
   "source": [
    "Testing the created model against test resampled data"
   ]
  },
  {
   "cell_type": "code",
   "execution_count": 24,
   "metadata": {},
   "outputs": [],
   "source": [
    "df_test = pd.read_csv('/Users/karunparashar/Downloads/mtx/Tst_rsmpl.csv')\n",
    "x_tet =df_test.iloc[:,0:52]\n",
    "y_tet = df_test.iloc[:,52]\n",
    "test_pred = knn_model.predict(x_tet)\n",
    "accuracy_score(test_pred,y_tet)"
   ]
  },
  {
   "cell_type": "markdown",
   "metadata": {},
   "source": [
    "Extracting best tuning parameter from our trained model"
   ]
  },
  {
   "cell_type": "code",
   "execution_count": 35,
   "metadata": {},
   "outputs": [
    {
     "data": {
      "text/plain": [
       "0    {'n_neighbors': 3}\n",
       "Name: params, dtype: object"
      ]
     },
     "execution_count": 35,
     "metadata": {},
     "output_type": "execute_result"
    }
   ],
   "source": [
    "df_kn= pd.DataFrame(data = KNN_grid_results)\n",
    "best_params = df_kn.params[df_kn.rank_test_score ==1]\n",
    "best_params"
   ]
  },
  {
   "cell_type": "markdown",
   "metadata": {},
   "source": [
    "Creating a classification report based on the best parameters available"
   ]
  },
  {
   "cell_type": "code",
   "execution_count": 39,
   "metadata": {},
   "outputs": [
    {
     "name": "stdout",
     "output_type": "stream",
     "text": [
      "               precision    recall  f1-score   support\n",
      "\n",
      "     Ascomoid       0.84      0.87      0.85     14496\n",
      "Assassin vine       0.77      0.87      0.82     13247\n",
      "   Basidirond       0.94      0.93      0.93     15095\n",
      "    Dark tree       0.96      0.97      0.96     14802\n",
      " Hangman tree       0.99      0.94      0.96     15883\n",
      "       Kelpie       0.97      0.92      0.94     15870\n",
      "      Myconid       1.00      0.95      0.97     15761\n",
      "\n",
      "    micro avg       0.92      0.92      0.92    105154\n",
      "    macro avg       0.92      0.92      0.92    105154\n",
      " weighted avg       0.93      0.92      0.92    105154\n",
      "\n"
     ]
    }
   ],
   "source": [
    "cr = classification_report(knn_model.predict(x_tet),y_tet)\n",
    "print(cr)"
   ]
  },
  {
   "cell_type": "markdown",
   "metadata": {},
   "source": [
    "All classes have decent precision, recall and F1 scores except the class 'Assassin vine'- which implies that the model was able to capture the original distribution to a great level apart from one specific class.\n",
    "\n",
    "Otherwise the model is on par with a good classifier"
   ]
  },
  {
   "cell_type": "code",
   "execution_count": null,
   "metadata": {},
   "outputs": [],
   "source": []
  }
 ],
 "metadata": {
  "colab": {
   "authorship_tag": "ABX9TyNYdzwDu58GaH1WMeD7+/ho",
   "collapsed_sections": [],
   "name": "K-Nearest-Neighbour.ipynb",
   "provenance": [
    {
     "file_id": "1Fy5xTIOKF5DsdZITUHBqONoa3B6mApxO",
     "timestamp": 1587734167297
    },
    {
     "file_id": "1ygcbxahHk2ZWpM3ioPbs6brCf4Au30_B",
     "timestamp": 1587734109759
    }
   ]
  },
  "kernelspec": {
   "display_name": "Python 3",
   "language": "python",
   "name": "python3"
  },
  "language_info": {
   "codemirror_mode": {
    "name": "ipython",
    "version": 3
   },
   "file_extension": ".py",
   "mimetype": "text/x-python",
   "name": "python",
   "nbconvert_exporter": "python",
   "pygments_lexer": "ipython3",
   "version": "3.7.3"
  }
 },
 "nbformat": 4,
 "nbformat_minor": 1
}
